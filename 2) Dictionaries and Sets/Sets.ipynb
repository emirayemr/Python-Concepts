{
 "cells": [
  {
   "cell_type": "markdown",
   "id": "5c163759",
   "metadata": {},
   "source": [
    "# Sets"
   ]
  },
  {
   "cell_type": "code",
   "execution_count": 99,
   "id": "29cd1d6f",
   "metadata": {},
   "outputs": [
    {
     "name": "stdout",
     "output_type": "stream",
     "text": [
      "{0, 1, 2, 3, 4}\n",
      "{1, 2, 3}\n",
      "{'m', 'y', 's', 't', 'e'}\n",
      "<class 'dict'>\n",
      "<class 'set'>\n"
     ]
    }
   ],
   "source": [
    "# declaring a set\n",
    "myset = {0,1,2,3,4}\n",
    "print(myset)\n",
    "\n",
    "myset = set([1,2,3])\n",
    "print(myset)\n",
    "\n",
    "myset = set(\"myset\") # gives arbitrary and only different characters\n",
    "print(myset)\n",
    "\n",
    "# creating empty set\n",
    "myset = {}\n",
    "print(type(myset)) # it is considered as dict\n",
    "\n",
    "myset = set()\n",
    "print(type(myset)) # this is an empty set"
   ]
  },
  {
   "cell_type": "code",
   "execution_count": 100,
   "id": "3ddd2bcc",
   "metadata": {},
   "outputs": [
    {
     "name": "stdout",
     "output_type": "stream",
     "text": [
      "{1, 2, 3, 4, 5}\n",
      "{1, 2, 3, 4, 5}\n",
      "1\n",
      "2\n",
      "3\n",
      "4\n",
      "5\n",
      "{1, 3, 4, 5}\n",
      "{1, 3, 5}\n",
      "{3, 5}\n",
      "set()\n"
     ]
    }
   ],
   "source": [
    "# adding a new element to a set\n",
    "myset.add(1)\n",
    "myset.add(2)\n",
    "myset.add(3)\n",
    "myset.add(4)\n",
    "myset.add(5)\n",
    "print(myset)\n",
    "\n",
    "myset.add(5)\n",
    "print(myset) # do not add the same value multiple times\n",
    "\n",
    "# iterating over a set\n",
    "for item in myset:\n",
    "    print(item)\n",
    "    \n",
    "# removing an element from a set\n",
    "myset.remove(2)\n",
    "print(myset)\n",
    "myset.discard(4)\n",
    "print(myset)\n",
    "\n",
    "# myset.remove(6) -> KeyError\n",
    "myset.discard(6) # 'discard' will not raise an error\n",
    "\n",
    "myset.pop() # removes an arbitrary element\n",
    "print(myset)\n",
    "\n",
    "# removing all elements\n",
    "myset.clear()\n",
    "print(myset)"
   ]
  },
  {
   "cell_type": "code",
   "execution_count": 101,
   "id": "b1f3dec2",
   "metadata": {},
   "outputs": [
    {
     "name": "stdout",
     "output_type": "stream",
     "text": [
      "{'watermelon', 'cherry', 'banana', 'apple'}\n",
      "{'watermelon', 'cherry', 'banana', 'apple'}\n",
      "\n",
      "{'cherry', 'apple', 'watermelon', 'grappe', 'banana'}\n",
      "{'watermelon', 'cherry', 'banana', 'apple'}\n",
      "\n",
      "{'cherry', 'apple', 'watermelon', 'grappe', 'banana'}\n",
      "{'watermelon', 'cherry', 'banana', 'apple'}\n"
     ]
    }
   ],
   "source": [
    "# assigning a set to another set\n",
    "set_org = {\"banana\", \"apple\", \"watermelon\"}\n",
    "set_cop = set_org\n",
    "set_cop.add(\"cherry\")\n",
    "print(set_cop)\n",
    "print(set_org)\n",
    "print(\n",
    ")\n",
    "# copying a set\n",
    "set_cop = set_org.copy()\n",
    "set_cop.add(\"grappe\")\n",
    "print(set_cop)\n",
    "print(set_org)\n",
    "print()\n",
    "\n",
    "set_cop = set(set_org)\n",
    "set_cop.add(\"grappe\")\n",
    "print(set_cop)\n",
    "print(set_org)"
   ]
  },
  {
   "cell_type": "code",
   "execution_count": 102,
   "id": "5711b423",
   "metadata": {},
   "outputs": [
    {
     "name": "stdout",
     "output_type": "stream",
     "text": [
      "{0, 1, 2, 3, 4, 5, 6, 7, 8, 9}\n",
      "{0, 1, 2, 3, 4, 5, 6, 7, 8, 9}\n",
      "{2}\n",
      "set()\n",
      "{3, 5, 7}\n",
      "{3, 5, 7}\n",
      "{1, 9}\n",
      "{2}\n",
      "{1, 2, 9}\n",
      "{1, 2, 9}\n"
     ]
    }
   ],
   "source": [
    "odds = {1,3,5,7,9}\n",
    "evens = {0,2,4,6,8}\n",
    "primes = {2,3,5,7}\n",
    "\n",
    "# union operation\n",
    "print(evens.union(odds))\n",
    "print(odds.union(evens)) # the order is not important for union\n",
    "\n",
    "# intersection operation\n",
    "print(evens.intersection(primes))\n",
    "print(evens.intersection(odds))\n",
    "\n",
    "print(odds.intersection(primes))\n",
    "print(primes.intersection(odds)) # the order is not important for intersection\n",
    "\n",
    "# difference operation\n",
    "print(odds.difference(primes))\n",
    "print(primes.difference(odds)) # the order is important for difference\n",
    "\n",
    "# symmetric difference -> gives the elements that are not in the both sets\n",
    "print(odds.symmetric_difference(primes))\n",
    "print(primes.symmetric_difference(odds)) # the order is not important for symmetric difference\n",
    "# primes.symmetric_difference(odds) = odds.symmetric_difference(primes) = (odds.difference(primes)).union((primes.difference(odds)))"
   ]
  },
  {
   "cell_type": "code",
   "execution_count": 103,
   "id": "f53f501d",
   "metadata": {},
   "outputs": [
    {
     "name": "stdout",
     "output_type": "stream",
     "text": [
      "{0, 1, 2, 3, 4, 9, 16}\n",
      "{0, 1, 4}\n",
      "{2, 3}\n",
      "{16, 2, 3, 9}\n"
     ]
    }
   ],
   "source": [
    "numset = {0,1,2,3,4}\n",
    "sqrset = {0,1,4,9,16}\n",
    "# update operation\n",
    "numset.update(sqrset) # adds the items in sqrset to numset without duplication\n",
    "print(numset)\n",
    "\n",
    "numset = {0,1,2,3,4}\n",
    "sqrset = {0,1,4,9,16}\n",
    "# intersection update operation\n",
    "numset.intersection_update(sqrset) # keeps only the common items\n",
    "print(numset)\n",
    "\n",
    "numset = {0,1,2,3,4}\n",
    "sqrset = {0,1,4,9,16}\n",
    "# difference update operation\n",
    "numset.difference_update(sqrset)\n",
    "print(numset) # keeps only the different elements\n",
    "\n",
    "numset = {0,1,2,3,4}\n",
    "sqrset = {0,1,4,9,16}\n",
    "# symmetric difference update operation\n",
    "numset.symmetric_difference_update(sqrset)\n",
    "print(numset) # keeps only the different elements"
   ]
  },
  {
   "cell_type": "code",
   "execution_count": 104,
   "id": "8e10672d",
   "metadata": {},
   "outputs": [
    {
     "name": "stdout",
     "output_type": "stream",
     "text": [
      "False\n",
      "True\n",
      "True\n",
      "False\n",
      "True\n",
      "False\n"
     ]
    }
   ],
   "source": [
    "numbers = {0,1,2,3,4,5,6,7,8,9}\n",
    "even_numbers = {0,2,4,6,8}\n",
    "odd_numbers = {1,3,5,7,9}\n",
    "\n",
    "# checking if a subset\n",
    "print(numbers.issubset(even_numbers))\n",
    "print(even_numbers.issubset(numbers))\n",
    "\n",
    "# checking if a super set\n",
    "print(numbers.issuperset(even_numbers))\n",
    "print(even_numbers.issuperset(numbers))\n",
    "\n",
    "# checking if a disjoint set (have no common elements)\n",
    "print(odd_numbers.isdisjoint(even_numbers)) \n",
    "print(numbers.isdisjoint(even_numbers)) "
   ]
  },
  {
   "cell_type": "code",
   "execution_count": 105,
   "id": "7a79ee6b",
   "metadata": {},
   "outputs": [
    {
     "name": "stdout",
     "output_type": "stream",
     "text": [
      "frozenset({1, 2, 3})\n",
      "frozenset({1, 2, 3, 4})\n",
      "frozenset({2, 3})\n",
      "frozenset({1})\n",
      "frozenset({1, 4})\n"
     ]
    }
   ],
   "source": [
    "# frozen sets\n",
    "frozen = frozenset([1,2,3])\n",
    "print(frozen)\n",
    "\n",
    "# cannot make insertion or deletion operations on frozen sets\n",
    "    # frozen.add(4) -> raises error\n",
    "    # frozen.remove(1) -> raises error\n",
    "\n",
    "# union, intersection, difference operations work\n",
    "newfrozen = frozenset([2,3,4])\n",
    "print(frozen.union(newfrozen))\n",
    "print(frozen.intersection(newfrozen))\n",
    "print(frozen.difference(newfrozen))\n",
    "print(frozen.symmetric_difference(newfrozen))\n",
    "\n",
    "# update operations not working\n",
    "    # frozen.update(newfrozen) -> raises error"
   ]
  }
 ],
 "metadata": {
  "kernelspec": {
   "display_name": "Python 3 (ipykernel)",
   "language": "python",
   "name": "python3"
  },
  "language_info": {
   "codemirror_mode": {
    "name": "ipython",
    "version": 3
   },
   "file_extension": ".py",
   "mimetype": "text/x-python",
   "name": "python",
   "nbconvert_exporter": "python",
   "pygments_lexer": "ipython3",
   "version": "3.11.3"
  }
 },
 "nbformat": 4,
 "nbformat_minor": 5
}
