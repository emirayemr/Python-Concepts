{
 "cells": [
  {
   "cell_type": "markdown",
   "id": "5f66f705",
   "metadata": {},
   "source": [
    "# Dictionaries"
   ]
  },
  {
   "cell_type": "code",
   "execution_count": 71,
   "id": "a46127da",
   "metadata": {},
   "outputs": [
    {
     "name": "stdout",
     "output_type": "stream",
     "text": [
      "{'name': 'emir', 'age': 21, 'city': 'istanbul'}\n",
      "emir\n",
      "{'name': 'emir', 'age': 21, 'city': 'istanbul', 'email': 'emir@xyz.com'}\n",
      "{'name': 'emir', 'age': 21, 'city': 'istanbul', 'email': 'emir@email.com'}\n",
      "{'name': 'emir', 'city': 'istanbul', 'email': 'emir@email.com'}\n",
      "{'name': 'emir', 'email': 'emir@email.com'}\n",
      "{'name': 'emir'}\n",
      "{}\n"
     ]
    }
   ],
   "source": [
    "# declaring a dictionary\n",
    "mydict = {\"name\":\"emir\", \"age\":21, \"city\":\"istanbul\"}\n",
    "print(mydict)\n",
    "\n",
    "# accessing a keyvalue in a dictionary\n",
    "value = mydict[\"name\"]\n",
    "print(value)\n",
    "\n",
    "# adding a new item to a dictionary\n",
    "mydict[\"email\"] = \"emir@xyz.com\"\n",
    "print(mydict)\n",
    "\n",
    "mydict[\"email\"] = \"emir@email.com\" # updates the existing keyvalue\n",
    "print(mydict)\n",
    "\n",
    "# deleting an item from a dictionary\n",
    "del mydict[\"age\"]\n",
    "print(mydict)\n",
    "\n",
    "mydict.pop(\"city\")\n",
    "print(mydict)\n",
    "\n",
    "mydict.popitem() # removes the last item\n",
    "print(mydict)\n",
    "\n",
    "# removing all items\n",
    "mydict.clear()\n",
    "print(mydict)"
   ]
  },
  {
   "cell_type": "code",
   "execution_count": 72,
   "id": "37fc116c",
   "metadata": {},
   "outputs": [
    {
     "name": "stdout",
     "output_type": "stream",
     "text": [
      "name\n",
      "age\n",
      "city\n",
      "\n",
      "name\n",
      "age\n",
      "city\n",
      "\n",
      "emir\n",
      "21\n",
      "istanbul\n",
      "\n",
      "name emir\n",
      "age 21\n",
      "city istanbul\n",
      "\n",
      "Error: invalid item\n"
     ]
    }
   ],
   "source": [
    "mydict = {\"name\":\"emir\", \"age\":21, \"city\":\"istanbul\"}\n",
    "\n",
    "# iterating over the dictionary\n",
    "for key in mydict:\n",
    "    print(key)\n",
    "print()\n",
    "\n",
    "for key in mydict.keys():\n",
    "    print(key)\n",
    "print()\n",
    "\n",
    "for value in mydict.values():\n",
    "    print(value)\n",
    "print()\n",
    "\n",
    "for key,value in mydict.items():\n",
    "    print(key, value)\n",
    "print()\n",
    "\n",
    "# exception\n",
    "try:\n",
    "    print(mydict[\"surname\"])\n",
    "except:\n",
    "    print(\"Error: invalid item\")"
   ]
  },
  {
   "cell_type": "code",
   "execution_count": 73,
   "id": "d2652592",
   "metadata": {
    "scrolled": true
   },
   "outputs": [
    {
     "name": "stdout",
     "output_type": "stream",
     "text": [
      "{'name': 'emir', 'age': 21, 'city': 'istanbul', 'email': 'emir@email.com'}\n",
      "{'name': 'emir', 'age': 21, 'city': 'istanbul', 'email': 'emir@email.com'}\n",
      "\n",
      "{'name': 'emir', 'age': 21, 'city': 'istanbul', 'email': 'emir@email.com', 'surname': 'ay'}\n",
      "{'name': 'emir', 'age': 21, 'city': 'istanbul', 'email': 'emir@email.com'}\n",
      "\n",
      "{'name': 'emir', 'age': 21, 'city': 'istanbul'}\n",
      "{'name': 'emir', 'age': 21, 'city': 'istanbul', 'email': 'emir@email.com'}\n"
     ]
    }
   ],
   "source": [
    "# assigning a dictionary to another dictionary\n",
    "mydict_cop = mydict\n",
    "mydict_cop[\"email\"] = \"emir@email.com\"\n",
    "print(mydict_cop)\n",
    "print(mydict)\n",
    "print()\n",
    "\n",
    "# copying a dictionary\n",
    "mydict_cop = mydict.copy()\n",
    "mydict_cop[\"surname\"] = \"ay\"\n",
    "print(mydict_cop)\n",
    "print(mydict)\n",
    "print()\n",
    "\n",
    "mydict_cop = dict(mydict)\n",
    "del mydict_cop[\"email\"]\n",
    "print(mydict_cop)\n",
    "print(mydict)"
   ]
  },
  {
   "cell_type": "code",
   "execution_count": 74,
   "id": "c5ca5bdc",
   "metadata": {},
   "outputs": [
    {
     "name": "stdout",
     "output_type": "stream",
     "text": [
      "{'name': 'emir', 'age': 21, 'email': 'emir@email.com', 'city': 'istanbul'}\n",
      "4\n",
      "{(0, 0): 1}\n"
     ]
    }
   ],
   "source": [
    "# updating a dictionary\n",
    "mydict = {\"name\":\"emir\", \"age\":22, \"email\":\"emir@email.com\"}\n",
    "mydict2 = dict(age=21, city=\"istanbul\")\n",
    "\n",
    "mydict.update(mydict2)\n",
    "print(mydict)\n",
    "\n",
    "# using numbers as keys (key value instead of index)\n",
    "square = {2:4, 3:9, 4:16, 5:25}\n",
    "    # print(square[0]) -> gives key error\n",
    "print(square[2])\n",
    "\n",
    "# tuples can be used as keys\n",
    "mytuple = 0,0\n",
    "mydict = {mytuple:1}\n",
    "print(mydict)\n",
    "\n",
    "# mylist = [0,0]\n",
    "# mydict = {mylist:1} -> error (lists cannot be used as key)"
   ]
  }
 ],
 "metadata": {
  "kernelspec": {
   "display_name": "Python 3 (ipykernel)",
   "language": "python",
   "name": "python3"
  },
  "language_info": {
   "codemirror_mode": {
    "name": "ipython",
    "version": 3
   },
   "file_extension": ".py",
   "mimetype": "text/x-python",
   "name": "python",
   "nbconvert_exporter": "python",
   "pygments_lexer": "ipython3",
   "version": "3.11.3"
  }
 },
 "nbformat": 4,
 "nbformat_minor": 5
}
