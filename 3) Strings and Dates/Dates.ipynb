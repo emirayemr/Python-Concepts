{
 "cells": [
  {
   "cell_type": "code",
   "execution_count": 5,
   "id": "3bc4bf17",
   "metadata": {},
   "outputs": [],
   "source": [
    "import datetime"
   ]
  },
  {
   "cell_type": "code",
   "execution_count": 10,
   "id": "6f5100c1",
   "metadata": {},
   "outputs": [
    {
     "name": "stdout",
     "output_type": "stream",
     "text": [
      "2023-05-08 16:39:51.108775\n",
      "2023\n",
      "5\n",
      "8\n",
      "16\n",
      "39\n",
      "51\n"
     ]
    }
   ],
   "source": [
    "today = datetime.datetime.today()\n",
    "print(today)\n",
    "print(today.year)\n",
    "print(today.month)\n",
    "print(today.day)\n",
    "print(now.hour)\n",
    "print(now.minute)\n",
    "print(now.second)"
   ]
  },
  {
   "cell_type": "code",
   "execution_count": 11,
   "id": "80d9230b",
   "metadata": {},
   "outputs": [],
   "source": [
    "date = datetime.datetime(2001,11,7)"
   ]
  },
  {
   "cell_type": "code",
   "execution_count": 15,
   "id": "303f5a48",
   "metadata": {},
   "outputs": [
    {
     "name": "stdout",
     "output_type": "stream",
     "text": [
      "Wed\n",
      "Wednesday\n",
      "3\n"
     ]
    }
   ],
   "source": [
    "print(date.strftime(\"%a\")) #weekday(short)\n",
    "print(date.strftime(\"%A\")) #weekday(full)\n",
    "print(date.strftime(\"%w\")) #weekday(as number)"
   ]
  },
  {
   "cell_type": "code",
   "execution_count": 16,
   "id": "b61ba7c5",
   "metadata": {},
   "outputs": [
    {
     "name": "stdout",
     "output_type": "stream",
     "text": [
      "07\n",
      "Nov\n",
      "November\n",
      "11\n"
     ]
    }
   ],
   "source": [
    "print(date.strftime(\"%d\")) #day of the month\n",
    "print(date.strftime(\"%b\")) #month name(short)\n",
    "print(date.strftime(\"%B\")) #month name(full)\n",
    "print(date.strftime(\"%m\")) #month (as number)"
   ]
  },
  {
   "cell_type": "code",
   "execution_count": 17,
   "id": "87f3c45b",
   "metadata": {},
   "outputs": [
    {
     "name": "stdout",
     "output_type": "stream",
     "text": [
      "01\n",
      "2001\n"
     ]
    }
   ],
   "source": [
    "print(date.strftime(\"%y\")) #year(short)\n",
    "print(date.strftime(\"%Y\")) #year(full)"
   ]
  },
  {
   "cell_type": "code",
   "execution_count": 19,
   "id": "1e131776",
   "metadata": {},
   "outputs": [
    {
     "name": "stdout",
     "output_type": "stream",
     "text": [
      "2023-05-08 17:01:45.247521\n"
     ]
    }
   ],
   "source": [
    "now = datetime.datetime.now()\n",
    "print(now)"
   ]
  },
  {
   "cell_type": "code",
   "execution_count": 20,
   "id": "60db5d84",
   "metadata": {},
   "outputs": [
    {
     "name": "stdout",
     "output_type": "stream",
     "text": [
      "17\n",
      "05\n",
      "PM\n"
     ]
    }
   ],
   "source": [
    "print(now.strftime(\"%H\")) #hour [00-23]\n",
    "print(now.strftime(\"%I\")) #month name [00-12]\n",
    "print(now.strftime(\"%p\")) #AM/PM"
   ]
  },
  {
   "cell_type": "code",
   "execution_count": 21,
   "id": "e40de908",
   "metadata": {},
   "outputs": [
    {
     "name": "stdout",
     "output_type": "stream",
     "text": [
      "01\n",
      "45\n",
      "247521\n"
     ]
    }
   ],
   "source": [
    "print(now.strftime(\"%M\")) #minute [00-59]\n",
    "print(now.strftime(\"%S\")) #second [00-59]\n",
    "print(now.strftime(\"%f\")) #microsecond"
   ]
  },
  {
   "cell_type": "code",
   "execution_count": 23,
   "id": "324f428c",
   "metadata": {},
   "outputs": [
    {
     "name": "stdout",
     "output_type": "stream",
     "text": [
      "128\n",
      "19\n",
      "20\n"
     ]
    }
   ],
   "source": [
    "print(now.strftime(\"%j\")) #day number of year [001-366]\n",
    "print(now.strftime(\"%W\")) #week number of year [00-53]\n",
    "print(now.strftime(\"%C\")) #century"
   ]
  }
 ],
 "metadata": {
  "kernelspec": {
   "display_name": "Python 3 (ipykernel)",
   "language": "python",
   "name": "python3"
  },
  "language_info": {
   "codemirror_mode": {
    "name": "ipython",
    "version": 3
   },
   "file_extension": ".py",
   "mimetype": "text/x-python",
   "name": "python",
   "nbconvert_exporter": "python",
   "pygments_lexer": "ipython3",
   "version": "3.11.3"
  }
 },
 "nbformat": 4,
 "nbformat_minor": 5
}
