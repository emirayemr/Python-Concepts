{
 "cells": [
  {
   "cell_type": "code",
   "execution_count": 45,
   "id": "f91420bc",
   "metadata": {},
   "outputs": [
    {
     "name": "stdout",
     "output_type": "stream",
     "text": [
      "Hello World!\n",
      "Hello World!\n",
      "I'm Emir \n",
      "Hello\n",
      "World!\n",
      "Hello World!\n",
      "H\n",
      "W\n",
      "emir ay\n",
      "e\n",
      "m\n",
      "i\n",
      "r\n"
     ]
    }
   ],
   "source": [
    "# declaring a string\n",
    "mystring = \"Hello World!\"\n",
    "print(mystring)\n",
    "\n",
    "mystring = 'Hello World!'\n",
    "print(mystring)\n",
    "\n",
    "mystring = 'I\\'m Emir ' # escaping slash\n",
    "print(mystring)\n",
    "\n",
    "mystring = \"\"\"Hello\n",
    "World!\"\"\"\n",
    "print(mystring)\n",
    "\n",
    "\n",
    "mystring = \"\"\"Hello \\\n",
    "World!\"\"\"\n",
    "print(mystring)\n",
    "\n",
    "# accessing a character in a string\n",
    "mystring = \"Hello World!\"\n",
    "char = mystring[0]\n",
    "print(char)\n",
    "char = mystring[6]\n",
    "print(char)\n",
    "\n",
    "# mystring[0] = 'a' -> error (strings are immutable)\n",
    "\n",
    "# concatenating strings\n",
    "name = \"emir\"\n",
    "surname = \"ay\"\n",
    "concatenated_string = name + \" \" + surname\n",
    "print(concatenated_string)\n",
    "\n",
    "# iterating over a string\n",
    "for char in name:\n",
    "    print(char)"
   ]
  },
  {
   "cell_type": "code",
   "execution_count": 46,
   "id": "90b44f3b",
   "metadata": {},
   "outputs": [
    {
     "name": "stdout",
     "output_type": "stream",
     "text": [
      "World\n",
      "HloWrd\n",
      "!dlroW olleH\n",
      "Hello World\n",
      "STRING\n",
      "string\n",
      "False\n",
      "True\n",
      "0\n",
      "6\n",
      "6\n",
      "1\n",
      "2\n",
      "1\n",
      "Good bye World!\n",
      "Hello World!\n",
      "['Hello', 'Hi', 'Good', 'bye']\n",
      "['Hello', 'Hi', 'Good', 'bye']\n",
      "['Hello', 'Hi', 'Good bye']\n",
      "HelloHiGood bye\n",
      "Hello Hi Good bye\n"
     ]
    }
   ],
   "source": [
    "# slicing a string and substrings\n",
    "mystring = \"Hello World!\"\n",
    "substring = mystring[6:11]\n",
    "print(substring)\n",
    "\n",
    "print(mystring[::2]) # string stepping by 2 & only even indices\n",
    "\n",
    "print(mystring[::-1]) # reverses the string\n",
    "\n",
    "# getting rid of blank spaces (at the beginning and end)\n",
    "string = \"   Hello World    \"\n",
    "print(string.strip())\n",
    "\n",
    "# making all upper case\n",
    "string = \"String\"\n",
    "print(string.upper())\n",
    "\n",
    "# making all lower case\n",
    "print(string.lower())\n",
    "\n",
    "# checking if a string starts with a specific letter\n",
    "print(string.startswith(\"s\"))\n",
    "print(string.startswith(\"S\"))\n",
    "\n",
    "# finding the index of a char or a substring in a string\n",
    "myString = \"Hello World!\"\n",
    "print(myString.find(\"H\"))\n",
    "print(myString.find(\"W\"))\n",
    "print(myString.find(\"Wo\"))\n",
    "\n",
    "# counting how many times a substring occuerd in a string\n",
    "myString = \"Hello World!\"\n",
    "print(myString.count(\"H\"))\n",
    "print(myString.count(\"o\"))\n",
    "print(myString.count(\"or\"))\n",
    "\n",
    "# replacing a substring with another\n",
    "myString = \"Hello World!\"\n",
    "print(myString.replace(\"Hello\", \"Good bye\"))\n",
    "print(myString.replace(\"Hi\", \"Good bye\")) # does nothing\n",
    "\n",
    "# storing each word of a string in a list\n",
    "mystring = \"Hello Hi Good bye\"\n",
    "mylist = mystring.split()\n",
    "print(mylist)\n",
    "mystring = \"Hello Hi Good bye\"\n",
    "mylist = mystring.split(\" \") # gives same result with split()\n",
    "print(mylist)\n",
    "mystring = \"Hello,Hi,Good bye\"\n",
    "mylist = mystring.split(\",\") # splits when detect a comma\n",
    "print(mylist)\n",
    "\n",
    "# turning a list into a string\n",
    "mystring = ''.join(mylist)\n",
    "print(mystring)\n",
    "mystring = ' '.join(mylist)\n",
    "print(mystring)"
   ]
  },
  {
   "cell_type": "code",
   "execution_count": 47,
   "id": "f2f7b562",
   "metadata": {},
   "outputs": [
    {
     "name": "stdout",
     "output_type": "stream",
     "text": [
      "aaaaaaaaaa\n",
      "0.00023015699844108894\n",
      "aaaaaaaaaa\n",
      "9.422400034964085e-05\n"
     ]
    }
   ],
   "source": [
    "# comparing efficiency of for loop vs join method\n",
    "\n",
    "from timeit import default_timer as timer\n",
    "my_list = ['a']*10\n",
    "\n",
    "# using for loop\n",
    "start = timer()\n",
    "my_string = \"\"\n",
    "for i in my_list:\n",
    "    my_string += i\n",
    "print(my_string)\n",
    "stop = timer()\n",
    "print(stop-start)\n",
    "\n",
    "# using join method\n",
    "start = timer()\n",
    "my_string = \"\".join(my_list)\n",
    "print(my_string) \n",
    "stop = timer()\n",
    "print(stop-start)"
   ]
  },
  {
   "cell_type": "code",
   "execution_count": 48,
   "id": "409c93eb",
   "metadata": {},
   "outputs": [
    {
     "name": "stdout",
     "output_type": "stream",
     "text": [
      "20.858749191000243\n",
      "0.009496942002442665\n"
     ]
    }
   ],
   "source": [
    "# larger input\n",
    "\n",
    "from timeit import default_timer as timer\n",
    "my_list = ['a']*1000000\n",
    "\n",
    "# using for loop\n",
    "start = timer()\n",
    "my_string = \"\"\n",
    "for i in my_list:\n",
    "    my_string += i\n",
    "stop = timer()\n",
    "print(stop-start)\n",
    "\n",
    "# using join method\n",
    "start = timer()\n",
    "my_string = \"\".join(my_list)\n",
    "stop = timer()\n",
    "print(stop-start)"
   ]
  },
  {
   "cell_type": "code",
   "execution_count": 49,
   "id": "70431eba",
   "metadata": {},
   "outputs": [
    {
     "name": "stdout",
     "output_type": "stream",
     "text": [
      "my variable is me\n",
      "my variable is 5\n",
      "my variable is 3.157584\n",
      "my variable is 3.16\n",
      "my variable is 3\n",
      "my variable is 3.157584\n",
      "my variable is 3.16\n",
      "my variables 2 and me\n"
     ]
    }
   ],
   "source": [
    "# % method\n",
    "var = \"me\"\n",
    "my_string = \"my variable is %s\" %var\n",
    "print(my_string)\n",
    "var = 5\n",
    "my_string = \"my variable is %d\" %var\n",
    "print(my_string)\n",
    "var = 3.157584\n",
    "my_string = \"my variable is %f\" %var\n",
    "print(my_string)\n",
    "my_string = \"my variable is %.2f\" %var\n",
    "print(my_string)\n",
    "my_string = \"my variable is %.f\" %var #returns integer\n",
    "print(my_string)\n",
    "\n",
    "# .format() method\n",
    "my_string = \"my variable is {}\".format(var)\n",
    "print(my_string)\n",
    "my_string = \"my variable is {:.2f}\".format(var)\n",
    "print(my_string)\n",
    "v1 = 2\n",
    "v2 = \"me\"\n",
    "my_string = \"my variables {} and {}\".format(v1,v2)\n",
    "print(my_string)"
   ]
  },
  {
   "cell_type": "code",
   "execution_count": 50,
   "id": "ee5cd5e9",
   "metadata": {},
   "outputs": [
    {
     "name": "stdout",
     "output_type": "stream",
     "text": [
      "my variables 2 and me\n",
      "my variables 4 and ME\n",
      "May 08, 2023\n"
     ]
    }
   ],
   "source": [
    "# f-String method (newest version of % and .format() methods)\n",
    "v1 = 2\n",
    "v2 = \"me\"\n",
    "my_string = f\"my variables {v1} and {v2}\"\n",
    "print(my_string)\n",
    "my_string = f\"my variables {v1*2} and {v2.upper()}\" # can do variable operations inside the brackets\n",
    "print(my_string)\n",
    "\n",
    "import datetime\n",
    "\n",
    "today = datetime.datetime.today()\n",
    "print(f\"{today:%B %d, %Y}\")"
   ]
  }
 ],
 "metadata": {
  "kernelspec": {
   "display_name": "Python 3 (ipykernel)",
   "language": "python",
   "name": "python3"
  },
  "language_info": {
   "codemirror_mode": {
    "name": "ipython",
    "version": 3
   },
   "file_extension": ".py",
   "mimetype": "text/x-python",
   "name": "python",
   "nbconvert_exporter": "python",
   "pygments_lexer": "ipython3",
   "version": "3.11.3"
  }
 },
 "nbformat": 4,
 "nbformat_minor": 5
}
