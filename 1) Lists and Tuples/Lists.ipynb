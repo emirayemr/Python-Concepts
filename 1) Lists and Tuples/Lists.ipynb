{
 "cells": [
  {
   "cell_type": "markdown",
   "id": "4330fc78",
   "metadata": {},
   "source": [
    "# Lists\n",
    "\n",
    "This notebook covers crucial concepts and operations of Lists on Python."
   ]
  },
  {
   "cell_type": "code",
   "execution_count": 130,
   "id": "d139e96b",
   "metadata": {},
   "outputs": [
    {
     "name": "stdout",
     "output_type": "stream",
     "text": [
      "['banana', 'cherry', 'apple']\n",
      "[5, True, 'apple', 'apple']\n",
      "cherry\n",
      "apple\n",
      "banana\n"
     ]
    }
   ],
   "source": [
    "# declaring a list\n",
    "mylist = [\"banana\", \"cherry\", \"apple\"]\n",
    "print(mylist)\n",
    "\n",
    "# a list can contain different types of elements\n",
    "       # can contain 2 of the same elements\n",
    "mylist2 = [5, True, \"apple\", \"apple\"]    \n",
    "print(mylist2)\n",
    "\n",
    "# accessing an element in a list\n",
    "item = mylist[1]\n",
    "print(item)\n",
    "      \n",
    "# negative indexing\n",
    "item = mylist[-1] # last item\n",
    "print(item)\n",
    "item = mylist[-3] # first item\n",
    "print(item)\n",
    "\n",
    "# item = mylist[3] # index out of range\n",
    "# item = mylist[-4] # index out of range"
   ]
  },
  {
   "cell_type": "code",
   "execution_count": 131,
   "id": "feaec7dc",
   "metadata": {},
   "outputs": [
    {
     "name": "stdout",
     "output_type": "stream",
     "text": [
      "banana\n",
      "cherry\n",
      "apple\n",
      "\n",
      "banana is in the list\n"
     ]
    }
   ],
   "source": [
    "# iterating over the list\n",
    "for i in mylist:\n",
    "    print(i)\n",
    "print() \n",
    "\n",
    "# checking if an item in the list\n",
    "if \"banana\" in mylist:\n",
    "    print(\"banana is in the list\")\n",
    "else:\n",
    "    print(\"banana is not in the list\")"
   ]
  },
  {
   "cell_type": "code",
   "execution_count": 132,
   "id": "59d14ebb",
   "metadata": {},
   "outputs": [
    {
     "name": "stdout",
     "output_type": "stream",
     "text": [
      "3\n",
      "2\n",
      "1\n",
      "['banana', 'cherry', 'apple', 'lemon']\n",
      "['banana', 'grappe', 'cherry', 'apple', 'lemon']\n",
      "5\n",
      "lemon\n",
      "['banana', 'grappe', 'cherry', 'apple']\n",
      "['banana', 'cherry', 'apple']\n",
      "['apple', 'cherry', 'banana']\n",
      "['apple', 'banana', 'cherry']\n",
      "[1, 2, 3, 4, 5, 7]\n",
      "[3, 7, 5, 4, 1, 2]\n",
      "[1, 2, 3, 4, 5, 7]\n"
     ]
    }
   ],
   "source": [
    "# length of a list\n",
    "print(len(mylist))\n",
    "\n",
    "# counting in a list\n",
    "print(mylist2.count(\"apple\"))\n",
    "\n",
    "# finding the index of an item\n",
    "print(mylist.index(\"cherry\"))\n",
    "\n",
    "# inserting a new item to a list\n",
    "mylist.append(\"lemon\") # inserts the item at the end of the list\n",
    "print(mylist)\n",
    "\n",
    "mylist.insert(1, \"grappe\") # inserts the item on a specific index\n",
    "print(mylist)\n",
    "\n",
    "print(len(mylist))\n",
    "\n",
    "# removing an item from the list\n",
    "item = mylist.pop() # removes the last item\n",
    "print(item)\n",
    "print(mylist)\n",
    "\n",
    "item = mylist.remove(\"grappe\") # removes a specific item\n",
    "print(mylist)\n",
    "\n",
    "# reversing a list\n",
    "mylist.reverse()\n",
    "print(mylist)\n",
    "\n",
    "# sorting a list alphabetically\n",
    "mylist.sort()\n",
    "print(mylist)\n",
    "\n",
    "# sorting a list numerically\n",
    "numlist = [3,7,5,4,1,2]\n",
    "print(sorted(numlist)) \n",
    "print(numlist)\n",
    "numlist.sort()\n",
    "print(numlist)"
   ]
  },
  {
   "cell_type": "code",
   "execution_count": 133,
   "id": "cff8f063",
   "metadata": {},
   "outputs": [
    {
     "name": "stdout",
     "output_type": "stream",
     "text": [
      "[0, 0, 0, 0, 0]\n",
      "['banana', 'cherry', 'apple', 0, 0, 0, 0, 0]\n",
      "['cherry', 'apple', 0]\n",
      "['cherry', 'apple', 0, 0, 0, 0, 0]\n",
      "['banana', 'cherry', 'apple', 0]\n",
      "['banana', 'apple', 0, 0]\n",
      "['banana', 0, 0]\n",
      "['cherry', 0, 0, 0]\n",
      "[0, 0, 0, 0, 0, 'apple', 'cherry', 'banana']\n"
     ]
    }
   ],
   "source": [
    "# different methods of declaring lists\n",
    "zerolist = [0] * 5 \n",
    "print(zerolist)\n",
    "\n",
    "# assambling 2 lists\n",
    "stringlist = [\"banana\", \"cherry\", \"apple\"]\n",
    "new_list = stringlist + zerolist\n",
    "print(new_list)\n",
    "\n",
    "# slicing a list\n",
    "print(new_list[1:4]) # prints elements 1-2-3\n",
    "print(new_list[1:]) # prints elements starting from 1\n",
    "print(new_list[:4]) # prints elements until 3\n",
    "\n",
    "# stepping a list\n",
    "print(new_list[::2]) # list stepping by 2 & only even indices\n",
    "print(new_list[::3]) # list stepping by 3\n",
    "print(new_list[1::2]) # only odd indices\n",
    "print(new_list[::-1]) # reverses the list"
   ]
  },
  {
   "cell_type": "code",
   "execution_count": 134,
   "id": "af6d3df7",
   "metadata": {},
   "outputs": [
    {
     "name": "stdout",
     "output_type": "stream",
     "text": [
      "[0, 1, 2, 3]\n",
      "[0, 1, 2, 3]\n",
      "\n",
      "[0, 1, 2, 3]\n",
      "[0, 1, 2]\n"
     ]
    }
   ],
   "source": [
    "# assigning a list to another list\n",
    "list_org = [0,1,2]\n",
    "list_cop = list_org\n",
    "list_cop.append(3)\n",
    "print(list_cop)\n",
    "print(list_org)\n",
    "\n",
    "print()\n",
    "\n",
    "# copying a list\n",
    "list_org = [0,1,2]\n",
    "list_cop = list_org.copy()\n",
    "list_cop.append(3)\n",
    "print(list_cop)\n",
    "print(list_org)"
   ]
  },
  {
   "cell_type": "code",
   "execution_count": 135,
   "id": "b9c8b5f7",
   "metadata": {},
   "outputs": [
    {
     "name": "stdout",
     "output_type": "stream",
     "text": [
      "[4, 9, 16, 25]\n"
     ]
    }
   ],
   "source": [
    "# list comprehends\n",
    "num_list = [2,3,4,5]\n",
    "sqrnum_list = [i*i for i in num_list]\n",
    "print(sqrnum_list)"
   ]
  }
 ],
 "metadata": {
  "kernelspec": {
   "display_name": "Python 3 (ipykernel)",
   "language": "python",
   "name": "python3"
  },
  "language_info": {
   "codemirror_mode": {
    "name": "ipython",
    "version": 3
   },
   "file_extension": ".py",
   "mimetype": "text/x-python",
   "name": "python",
   "nbconvert_exporter": "python",
   "pygments_lexer": "ipython3",
   "version": "3.11.3"
  }
 },
 "nbformat": 4,
 "nbformat_minor": 5
}
