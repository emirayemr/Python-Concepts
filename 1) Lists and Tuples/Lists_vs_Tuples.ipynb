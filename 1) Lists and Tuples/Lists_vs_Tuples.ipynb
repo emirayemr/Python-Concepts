{
 "cells": [
  {
   "cell_type": "markdown",
   "id": "d57f5148",
   "metadata": {},
   "source": [
    "# List vs Tuple"
   ]
  },
  {
   "cell_type": "code",
   "execution_count": 7,
   "id": "2408101e",
   "metadata": {},
   "outputs": [
    {
     "name": "stdout",
     "output_type": "stream",
     "text": [
      "136 bytes\n",
      "120 bytes\n"
     ]
    }
   ],
   "source": [
    "import sys\n",
    "\n",
    "mylist = [0,1,2,3,4,5,6,7,8,9]\n",
    "mytuple = (0,1,2,3,4,5,6,7,8,9)\n",
    "\n",
    "print(sys.getsizeof(mylist), \"bytes\")\n",
    "print(sys.getsizeof(mytuple), \"bytes\")"
   ]
  },
  {
   "cell_type": "markdown",
   "id": "f00248e9",
   "metadata": {},
   "source": [
    "A list takes up more space than a tuple that contains the same data."
   ]
  },
  {
   "cell_type": "code",
   "execution_count": 8,
   "id": "886c8fee",
   "metadata": {},
   "outputs": [
    {
     "name": "stdout",
     "output_type": "stream",
     "text": [
      "0.06699435100017581\n",
      "0.013830050000251504\n"
     ]
    }
   ],
   "source": [
    "import timeit\n",
    "\n",
    "print(timeit.timeit(stmt=\"[0,1,2,3,4,5,6,7,8,9]\", number=1000000))\n",
    "print(timeit.timeit(stmt=\"(0,1,2,3,4,5,6,7,8,9)\", number=1000000))"
   ]
  },
  {
   "cell_type": "markdown",
   "id": "fd7d1d03",
   "metadata": {},
   "source": [
    "This result shows that creating 1 million list of 10 elements takes nearly 6 times more then creating same amount of tuples of 10 elements. "
   ]
  }
 ],
 "metadata": {
  "kernelspec": {
   "display_name": "Python 3 (ipykernel)",
   "language": "python",
   "name": "python3"
  },
  "language_info": {
   "codemirror_mode": {
    "name": "ipython",
    "version": 3
   },
   "file_extension": ".py",
   "mimetype": "text/x-python",
   "name": "python",
   "nbconvert_exporter": "python",
   "pygments_lexer": "ipython3",
   "version": "3.11.3"
  }
 },
 "nbformat": 4,
 "nbformat_minor": 5
}
