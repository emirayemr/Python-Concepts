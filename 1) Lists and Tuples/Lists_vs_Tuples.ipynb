{
 "cells": [
  {
   "cell_type": "markdown",
   "id": "03ddc66f",
   "metadata": {},
   "source": [
    "# Lists vs Tuples"
   ]
  },
  {
   "cell_type": "code",
   "execution_count": 9,
   "id": "df685372",
   "metadata": {},
   "outputs": [
    {
     "name": "stdout",
     "output_type": "stream",
     "text": [
      "136 bytes\n",
      "120 bytes\n"
     ]
    }
   ],
   "source": [
    "import sys\n",
    "\n",
    "mylist = [0,1,2,3,4,5,6,7,8,9]\n",
    "mytuple = (0,1,2,3,4,5,6,7,8,9)\n",
    "\n",
    "print(sys.getsizeof(mylist), \"bytes\")\n",
    "print(sys.getsizeof(mytuple), \"bytes\")"
   ]
  },
  {
   "cell_type": "markdown",
   "id": "6e38bea0",
   "metadata": {},
   "source": [
    "A list takes up more space than a tuple that contains the same data."
   ]
  },
  {
   "cell_type": "code",
   "execution_count": 10,
   "id": "5ce56c4c",
   "metadata": {},
   "outputs": [
    {
     "name": "stdout",
     "output_type": "stream",
     "text": [
      "0.06896195300214458\n",
      "0.013433539999823552\n"
     ]
    }
   ],
   "source": [
    "import timeit\n",
    "\n",
    "print(timeit.timeit(stmt=\"[0,1,2,3,4,5,6,7,8,9]\", number=1000000))\n",
    "print(timeit.timeit(stmt=\"(0,1,2,3,4,5,6,7,8,9)\", number=1000000))"
   ]
  },
  {
   "cell_type": "markdown",
   "id": "e722fe18",
   "metadata": {},
   "source": [
    "This result shows that creating 1 million list of 10 elements takes nearly 6 times more then creating same amount of tuples of 10 elements. "
   ]
  }
 ],
 "metadata": {
  "kernelspec": {
   "display_name": "Python 3 (ipykernel)",
   "language": "python",
   "name": "python3"
  },
  "language_info": {
   "codemirror_mode": {
    "name": "ipython",
    "version": 3
   },
   "file_extension": ".py",
   "mimetype": "text/x-python",
   "name": "python",
   "nbconvert_exporter": "python",
   "pygments_lexer": "ipython3",
   "version": "3.11.3"
  }
 },
 "nbformat": 4,
 "nbformat_minor": 5
}
