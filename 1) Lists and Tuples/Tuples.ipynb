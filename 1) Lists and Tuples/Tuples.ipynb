{
 "cells": [
  {
   "cell_type": "markdown",
   "id": "c0e66e07",
   "metadata": {},
   "source": [
    "# Tuples\n",
    "\n",
    "This notebook covers crucial concepts and operations of Tuples on Python."
   ]
  },
  {
   "cell_type": "code",
   "execution_count": 60,
   "id": "5dee46fb",
   "metadata": {
    "scrolled": false
   },
   "outputs": [
    {
     "name": "stdout",
     "output_type": "stream",
     "text": [
      "('emir', 'ay', 21)\n",
      "('emir', 'ay', 21)\n",
      "<class 'str'>\n",
      "<class 'tuple'>\n",
      "emir\n",
      "21\n",
      "21\n",
      "[0, 2, 3]\n",
      "\n",
      "emir\n",
      "ay\n",
      "21\n"
     ]
    }
   ],
   "source": [
    "#declaring a tuple\n",
    "mytuple = (\"emir\", \"ay\", 21)\n",
    "print(mytuple)\n",
    "\n",
    "mytuple = \"emir\", \"ay\", 21 # can be declared without paranthesis\n",
    "print(mytuple)\n",
    "\n",
    "mytuple = (\"emir\")\n",
    "print(type(mytuple))\n",
    "\n",
    "mytuple = (\"emir\",) # if only one element, should put a comme after it\n",
    "print(type(mytuple))\n",
    "\n",
    "# indexing in tuples (very similar with lists)\n",
    "mytuple = (\"emir\", \"ay\", 21)\n",
    "item = mytuple[0]\n",
    "print(item)\n",
    "item = mytuple[2]\n",
    "print(item)\n",
    "item = mytuple[-1] # prints last element of the tuple\n",
    "print(item)\n",
    "\n",
    "# in lists asigning a new value to an index is possible\n",
    "# however, it is not possible in tuples\n",
    "mylist = [1,2,3]\n",
    "mylist[0] = 0\n",
    "print(mylist)\n",
    "\n",
    "# mytuple = (1,2,3)\n",
    "# mytuple[0] = 0\n",
    "    # TypeError: 'tuple' object does not support item assignment\n",
    "print()\n",
    "\n",
    "# iterating over the tuple (same as lists)\n",
    "for i in mytuple:\n",
    "    print(i)"
   ]
  },
  {
   "cell_type": "code",
   "execution_count": 61,
   "id": "d98023ee",
   "metadata": {
    "scrolled": false
   },
   "outputs": [
    {
     "name": "stdout",
     "output_type": "stream",
     "text": [
      "6\n",
      "3\n",
      "index of 'a':' 0\n",
      "index of 'b':' 1\n"
     ]
    }
   ],
   "source": [
    "lt_tuple = \"a\",\"b\",\"b\",\"c\",\"c\",\"c\"\n",
    "# length of a tuple\n",
    "print(len(lt_tuple))\n",
    "\n",
    "# counting in a tuple\n",
    "print(lt_tuple.count(\"c\"))\n",
    "\n",
    "# finding the index of an item\n",
    "print(\"index of 'a':'\", lt_tuple.index(\"a\"))\n",
    "print(\"index of 'b':'\", lt_tuple.index(\"b\")) # gives first occurence\n",
    "\n",
    "# Inserting and removing an element is invalid for tuples!!!\n",
    "# clear() and reverse() methods are also invelid for tuples"
   ]
  },
  {
   "cell_type": "code",
   "execution_count": 62,
   "id": "1a8008ca",
   "metadata": {},
   "outputs": [
    {
     "name": "stdout",
     "output_type": "stream",
     "text": [
      "[0, 1, 2]\n",
      "(0, 1, 2)\n"
     ]
    }
   ],
   "source": [
    "# converting a tuple into a list, vice versa\n",
    "my_tuple = (0,1,2)\n",
    "\n",
    "my_list = list(my_tuple) # tuple -> list\n",
    "print(my_list)\n",
    "\n",
    "print(tuple(my_list)) # list -> tuple"
   ]
  },
  {
   "cell_type": "code",
   "execution_count": 63,
   "id": "e1cb6fba",
   "metadata": {},
   "outputs": [
    {
     "name": "stdout",
     "output_type": "stream",
     "text": [
      "(1, 2, 3)\n",
      "(1, 2, 3, 4, 5)\n",
      "(0, 1, 2, 3)\n",
      "(0, 2, 4)\n",
      "(0, 3)\n",
      "(1, 3, 5)\n",
      "(5, 4, 3, 2, 1, 0)\n",
      "(0, 0, 0, 0, 0)\n",
      "('banana', 'cherry', 'apple', 0, 0, 0, 0, 0)\n"
     ]
    }
   ],
   "source": [
    "num_tuple = (0,1,2,3,4,5)\n",
    "\n",
    "# slicing a tuple (same as lists)\n",
    "print(num_tuple[1:4]) # prints elements 1-2-3\n",
    "print(num_tuple[1:]) # prints elements starting from 1\n",
    "print(num_tuple[:4]) # prints elements until 3\n",
    "\n",
    "# stepping a tupple (same as lists)\n",
    "print(num_tuple[::2]) # list stepping by 2 & only even indices\n",
    "print(num_tuple[::3]) # list stepping by 3\n",
    "print(num_tuple[1::2]) # only odd indices\n",
    "print(num_tuple[::-1]) # reverses the list\n",
    "\n",
    "# different methods of declaring of a tuple\n",
    "zerotuple = (0,) *5\n",
    "print(zerotuple)\n",
    "\n",
    "# assambling 2 tuples (same as lists) \n",
    "stringtuple = \"banana\", \"cherry\", \"apple\"\n",
    "new_tuple = stringtuple + zerotuple\n",
    "print(new_tuple)"
   ]
  },
  {
   "cell_type": "code",
   "execution_count": 64,
   "id": "0e7bca5f",
   "metadata": {},
   "outputs": [
    {
     "name": "stdout",
     "output_type": "stream",
     "text": [
      "0\n",
      "[1, 2, 3, 4]\n",
      "5\n"
     ]
    }
   ],
   "source": [
    "num_tuple = (0,1,2,3,4,5)\n",
    "\n",
    "t1, *i2, i3 = num_tuple\n",
    "\n",
    "print(i1)\n",
    "print(i2) # *i2 is a list\n",
    "print(i3)"
   ]
  }
 ],
 "metadata": {
  "kernelspec": {
   "display_name": "Python 3 (ipykernel)",
   "language": "python",
   "name": "python3"
  },
  "language_info": {
   "codemirror_mode": {
    "name": "ipython",
    "version": 3
   },
   "file_extension": ".py",
   "mimetype": "text/x-python",
   "name": "python",
   "nbconvert_exporter": "python",
   "pygments_lexer": "ipython3",
   "version": "3.11.3"
  }
 },
 "nbformat": 4,
 "nbformat_minor": 5
}
